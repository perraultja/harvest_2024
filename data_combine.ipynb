{
 "cells": [
  {
   "cell_type": "code",
   "id": "initial_id",
   "metadata": {
    "collapsed": true,
    "ExecuteTime": {
     "end_time": "2024-08-08T15:00:36.070666Z",
     "start_time": "2024-08-08T15:00:36.057630Z"
    }
   },
   "source": [
    "import pandas as pd\n",
    "import matplotlib.pyplot as plt\n",
    "import numpy as np\n",
    "from datetime import datetime, timedelta\n",
    "import matplotlib.dates as mdates"
   ],
   "outputs": [],
   "execution_count": 87
  },
  {
   "metadata": {
    "ExecuteTime": {
     "end_time": "2024-08-08T15:00:36.784591Z",
     "start_time": "2024-08-08T15:00:36.770092Z"
    }
   },
   "cell_type": "code",
   "source": [
    "vpm = pd.read_csv('vpm_main_2.csv')\n",
    "prod = pd.read_csv('2024_production_2.csv')"
   ],
   "id": "3e196af21d41565c",
   "outputs": [],
   "execution_count": 88
  },
  {
   "metadata": {
    "ExecuteTime": {
     "end_time": "2024-08-08T15:00:38.242571Z",
     "start_time": "2024-08-08T15:00:38.230194Z"
    }
   },
   "cell_type": "code",
   "source": [
    "#seperate the third perrault harvester from double. seperate pilot from perrault harvester \n",
    "machine3 = vpm[vpm['machine']== 3]\n",
    "double = vpm[vpm['machine'] == 1]\n",
    "pilot = vpm[vpm['machine'] == 2]"
   ],
   "id": "81d9094f67b044dd",
   "outputs": [],
   "execution_count": 89
  },
  {
   "metadata": {
    "ExecuteTime": {
     "end_time": "2024-08-08T15:00:39.530042Z",
     "start_time": "2024-08-08T15:00:39.502279Z"
    }
   },
   "cell_type": "code",
   "source": "double",
   "id": "764442898ce3b7c0",
   "outputs": [
    {
     "data": {
      "text/plain": [
       "     Unnamed: 0  crop_year  machine       variety  is_mature  acres     vpm\n",
       "0             0       2019        1        Simcoe          1   8.88  41.116\n",
       "1             1       2019        1       Equinox          1  10.63  29.550\n",
       "2             2       2019        1         Citra          1  18.78  28.604\n",
       "3             3       2019        1  Experimental          1  18.58  39.782\n",
       "4             4       2019        1       HBC 682          0  22.97  31.927\n",
       "..          ...        ...      ...           ...        ...    ...     ...\n",
       "499         499       2023        1         Citra          1    NaN  26.313\n",
       "500         500       2023        1         Sabro          1    NaN  23.137\n",
       "501         501       2023        1       Idaho 7          1    NaN  14.587\n",
       "502         502       2023        1      HBC  522          2    NaN  41.522\n",
       "503         503       2023        1        Simcoe          1    NaN  32.236\n",
       "\n",
       "[372 rows x 7 columns]"
      ],
      "text/html": [
       "<div>\n",
       "<style scoped>\n",
       "    .dataframe tbody tr th:only-of-type {\n",
       "        vertical-align: middle;\n",
       "    }\n",
       "\n",
       "    .dataframe tbody tr th {\n",
       "        vertical-align: top;\n",
       "    }\n",
       "\n",
       "    .dataframe thead th {\n",
       "        text-align: right;\n",
       "    }\n",
       "</style>\n",
       "<table border=\"1\" class=\"dataframe\">\n",
       "  <thead>\n",
       "    <tr style=\"text-align: right;\">\n",
       "      <th></th>\n",
       "      <th>Unnamed: 0</th>\n",
       "      <th>crop_year</th>\n",
       "      <th>machine</th>\n",
       "      <th>variety</th>\n",
       "      <th>is_mature</th>\n",
       "      <th>acres</th>\n",
       "      <th>vpm</th>\n",
       "    </tr>\n",
       "  </thead>\n",
       "  <tbody>\n",
       "    <tr>\n",
       "      <th>0</th>\n",
       "      <td>0</td>\n",
       "      <td>2019</td>\n",
       "      <td>1</td>\n",
       "      <td>Simcoe</td>\n",
       "      <td>1</td>\n",
       "      <td>8.88</td>\n",
       "      <td>41.116</td>\n",
       "    </tr>\n",
       "    <tr>\n",
       "      <th>1</th>\n",
       "      <td>1</td>\n",
       "      <td>2019</td>\n",
       "      <td>1</td>\n",
       "      <td>Equinox</td>\n",
       "      <td>1</td>\n",
       "      <td>10.63</td>\n",
       "      <td>29.550</td>\n",
       "    </tr>\n",
       "    <tr>\n",
       "      <th>2</th>\n",
       "      <td>2</td>\n",
       "      <td>2019</td>\n",
       "      <td>1</td>\n",
       "      <td>Citra</td>\n",
       "      <td>1</td>\n",
       "      <td>18.78</td>\n",
       "      <td>28.604</td>\n",
       "    </tr>\n",
       "    <tr>\n",
       "      <th>3</th>\n",
       "      <td>3</td>\n",
       "      <td>2019</td>\n",
       "      <td>1</td>\n",
       "      <td>Experimental</td>\n",
       "      <td>1</td>\n",
       "      <td>18.58</td>\n",
       "      <td>39.782</td>\n",
       "    </tr>\n",
       "    <tr>\n",
       "      <th>4</th>\n",
       "      <td>4</td>\n",
       "      <td>2019</td>\n",
       "      <td>1</td>\n",
       "      <td>HBC 682</td>\n",
       "      <td>0</td>\n",
       "      <td>22.97</td>\n",
       "      <td>31.927</td>\n",
       "    </tr>\n",
       "    <tr>\n",
       "      <th>...</th>\n",
       "      <td>...</td>\n",
       "      <td>...</td>\n",
       "      <td>...</td>\n",
       "      <td>...</td>\n",
       "      <td>...</td>\n",
       "      <td>...</td>\n",
       "      <td>...</td>\n",
       "    </tr>\n",
       "    <tr>\n",
       "      <th>499</th>\n",
       "      <td>499</td>\n",
       "      <td>2023</td>\n",
       "      <td>1</td>\n",
       "      <td>Citra</td>\n",
       "      <td>1</td>\n",
       "      <td>NaN</td>\n",
       "      <td>26.313</td>\n",
       "    </tr>\n",
       "    <tr>\n",
       "      <th>500</th>\n",
       "      <td>500</td>\n",
       "      <td>2023</td>\n",
       "      <td>1</td>\n",
       "      <td>Sabro</td>\n",
       "      <td>1</td>\n",
       "      <td>NaN</td>\n",
       "      <td>23.137</td>\n",
       "    </tr>\n",
       "    <tr>\n",
       "      <th>501</th>\n",
       "      <td>501</td>\n",
       "      <td>2023</td>\n",
       "      <td>1</td>\n",
       "      <td>Idaho 7</td>\n",
       "      <td>1</td>\n",
       "      <td>NaN</td>\n",
       "      <td>14.587</td>\n",
       "    </tr>\n",
       "    <tr>\n",
       "      <th>502</th>\n",
       "      <td>502</td>\n",
       "      <td>2023</td>\n",
       "      <td>1</td>\n",
       "      <td>HBC  522</td>\n",
       "      <td>2</td>\n",
       "      <td>NaN</td>\n",
       "      <td>41.522</td>\n",
       "    </tr>\n",
       "    <tr>\n",
       "      <th>503</th>\n",
       "      <td>503</td>\n",
       "      <td>2023</td>\n",
       "      <td>1</td>\n",
       "      <td>Simcoe</td>\n",
       "      <td>1</td>\n",
       "      <td>NaN</td>\n",
       "      <td>32.236</td>\n",
       "    </tr>\n",
       "  </tbody>\n",
       "</table>\n",
       "<p>372 rows × 7 columns</p>\n",
       "</div>"
      ]
     },
     "execution_count": 90,
     "metadata": {},
     "output_type": "execute_result"
    }
   ],
   "execution_count": 90
  },
  {
   "metadata": {
    "ExecuteTime": {
     "end_time": "2024-08-08T15:00:40.631420Z",
     "start_time": "2024-08-08T15:00:40.609157Z"
    }
   },
   "cell_type": "code",
   "source": [
    "# Perrault machine dataframes\n",
    "perrault_mature = double[double['is_mature'] == 1]\n",
    "perrault_babies = double[double['is_mature'] == 0]\n",
    "\n",
    "# Pilot machine datframe\n",
    "pilot_mature = pilot[pilot['is_mature'] == 1]\n",
    "pilot_babies = pilot[pilot['is_mature'] == 0]"
   ],
   "id": "218ccf5b43f0207d",
   "outputs": [],
   "execution_count": 91
  },
  {
   "metadata": {
    "ExecuteTime": {
     "end_time": "2024-08-08T15:00:41.314200Z",
     "start_time": "2024-08-08T15:00:41.300771Z"
    }
   },
   "cell_type": "code",
   "source": [
    "#average picking time for mature \n",
    "perrault_speed_mature = perrault_mature.groupby(['variety', 'machine']).agg({'vpm': 'mean'}).reset_index().round(3)\n",
    "pilot_speed_mature = pilot_mature.groupby(['variety', 'machine']).agg({'vpm' : 'mean'}).reset_index().round(3)"
   ],
   "id": "ef0e897279d258c5",
   "outputs": [],
   "execution_count": 92
  },
  {
   "metadata": {
    "ExecuteTime": {
     "end_time": "2024-08-08T15:00:42.184784Z",
     "start_time": "2024-08-08T15:00:42.171217Z"
    }
   },
   "cell_type": "code",
   "source": [
    "#average picking time for babies \n",
    "perrault_speed_babies = perrault_babies.groupby(['variety', 'machine']).agg({'vpm': 'mean'}).reset_index().round(3)\n",
    "pilot_speed_babies = pilot_babies.groupby(['variety', 'machine']).agg({'vpm' : 'mean'}).reset_index().round(3)"
   ],
   "id": "783d7bbb7d555b7",
   "outputs": [],
   "execution_count": 93
  },
  {
   "metadata": {
    "ExecuteTime": {
     "end_time": "2024-08-08T15:00:42.867189Z",
     "start_time": "2024-08-08T15:00:42.853734Z"
    }
   },
   "cell_type": "code",
   "source": [
    "# Seperate organic and conventional in production \n",
    "organic = prod[prod['is_organic']== 1]\n",
    "conventional = prod[prod['is_organic']!= 1]"
   ],
   "id": "1048eee83af1f285",
   "outputs": [],
   "execution_count": 94
  },
  {
   "metadata": {
    "ExecuteTime": {
     "end_time": "2024-08-08T15:00:43.501705Z",
     "start_time": "2024-08-08T15:00:43.487607Z"
    }
   },
   "cell_type": "code",
   "source": [
    "# Seperate mature and babies from conventional and organic production \n",
    "conventional_mature = conventional[conventional['is_mature']== 1]\n",
    "conventional_babies = conventional[conventional['is_mature']!= 1]\n",
    "organic_mature = organic[organic['is_mature']== 1]\n",
    "organic_babies = organic[organic['is_mature']!= 1]"
   ],
   "id": "1a691fffa5e8abe4",
   "outputs": [],
   "execution_count": 95
  },
  {
   "metadata": {
    "ExecuteTime": {
     "end_time": "2024-08-08T15:00:44.077379Z",
     "start_time": "2024-08-08T15:00:44.062390Z"
    }
   },
   "cell_type": "code",
   "source": [
    "# group dataframes by variety\n",
    "conventional_mature_variety = conventional_mature.groupby('variety')[['acres', 'strings']].sum().reset_index()\n",
    "conventional_babies_variety = conventional_babies.groupby('variety')[['acres', 'strings']].sum().reset_index()\n",
    "organic_babies_variety = organic_babies.groupby('variety')[['acres', 'strings']].sum().reset_index()\n",
    "organic_mature_variety = organic_mature.groupby('variety')[['acres', 'strings']].sum().reset_index()"
   ],
   "id": "2ade7a01f30b331b",
   "outputs": [],
   "execution_count": 96
  },
  {
   "metadata": {
    "ExecuteTime": {
     "end_time": "2024-08-08T15:00:44.712494Z",
     "start_time": "2024-08-08T15:00:44.697389Z"
    }
   },
   "cell_type": "code",
   "source": [
    "# Realign the dataframe for merg\n",
    "conventional_mature_variety = conventional_mature_variety[['acres', 'strings', 'variety']]\n",
    "conventional_babies_variety = conventional_babies_variety[['acres', 'strings', 'variety']]\n",
    "organic_babies_variety = organic_babies_variety[['acres', 'strings', 'variety']]\n",
    "organic_mature_variety = organic_mature_variety[['acres', 'strings', 'variety']]"
   ],
   "id": "8a042f144003ee1",
   "outputs": [],
   "execution_count": 97
  },
  {
   "metadata": {},
   "cell_type": "markdown",
   "source": "Check Acreage ",
   "id": "21e30b66fe6aebc4"
  },
  {
   "metadata": {
    "ExecuteTime": {
     "end_time": "2024-08-08T15:00:46.471286Z",
     "start_time": "2024-08-08T15:00:46.455295Z"
    }
   },
   "cell_type": "code",
   "source": "cm = conventional_mature_variety['acres'].sum()",
   "id": "b6769a705acee83b",
   "outputs": [],
   "execution_count": 98
  },
  {
   "metadata": {
    "ExecuteTime": {
     "end_time": "2024-08-08T15:00:47.093169Z",
     "start_time": "2024-08-08T15:00:47.080703Z"
    }
   },
   "cell_type": "code",
   "source": "cb = conventional_babies_variety['acres'].sum()",
   "id": "feff378a900dd777",
   "outputs": [],
   "execution_count": 99
  },
  {
   "metadata": {
    "ExecuteTime": {
     "end_time": "2024-08-08T15:00:47.560192Z",
     "start_time": "2024-08-08T15:00:47.546906Z"
    }
   },
   "cell_type": "code",
   "source": "ob = organic_babies_variety['acres'].sum()",
   "id": "30f4c4a5a7eda9d0",
   "outputs": [],
   "execution_count": 100
  },
  {
   "metadata": {
    "ExecuteTime": {
     "end_time": "2024-08-08T15:00:48.104830Z",
     "start_time": "2024-08-08T15:00:48.090696Z"
    }
   },
   "cell_type": "code",
   "source": "om = organic_mature_variety['acres'].sum()",
   "id": "8447fc256dbdf6ce",
   "outputs": [],
   "execution_count": 101
  },
  {
   "metadata": {
    "ExecuteTime": {
     "end_time": "2024-08-08T15:00:48.723709Z",
     "start_time": "2024-08-08T15:00:48.709817Z"
    }
   },
   "cell_type": "code",
   "source": "cm + cb + ob + om",
   "id": "d2ed7c0428109eb2",
   "outputs": [
    {
     "data": {
      "text/plain": [
       "1446.3239999999998"
      ]
     },
     "execution_count": 102,
     "metadata": {},
     "output_type": "execute_result"
    }
   ],
   "execution_count": 102
  },
  {
   "metadata": {},
   "cell_type": "markdown",
   "source": "Merge Production (organic or conventional) with vpm (by machine)",
   "id": "5f93b90f05994e60"
  },
  {
   "metadata": {
    "ExecuteTime": {
     "end_time": "2024-08-08T15:00:52.760034Z",
     "start_time": "2024-08-08T15:00:52.748128Z"
    }
   },
   "cell_type": "code",
   "source": [
    "#key\n",
    "#conventional_mature_variety with perrault_speed_mature\n",
    "#conventional_babies_variety with perrault_speed_babies\n",
    "#organic_mature_variety with pilot_speed_mature\n",
    "#organic_babies_variety with pilot_speed_babies"
   ],
   "id": "d46a23bd0c5f437a",
   "outputs": [],
   "execution_count": 103
  },
  {
   "metadata": {
    "ExecuteTime": {
     "end_time": "2024-08-08T15:00:54.509077Z",
     "start_time": "2024-08-08T15:00:54.491494Z"
    }
   },
   "cell_type": "code",
   "source": [
    "perrault_processing_mature = pd.merge(conventional_mature_variety, perrault_speed_mature, on = 'variety', how = 'left')\n",
    "perrault_processing_babies = pd.merge(conventional_babies_variety, perrault_speed_babies, on = 'variety', how = 'left')\n",
    "pilot_processing_mature = pd.merge(organic_mature_variety, pilot_speed_mature, on = 'variety', how = 'left')\n",
    "pilot_processing_babies = pd.merge(organic_babies_variety, pilot_speed_babies, on = 'variety', how = 'left')"
   ],
   "id": "b91a010d706aa424",
   "outputs": [],
   "execution_count": 104
  },
  {
   "metadata": {
    "ExecuteTime": {
     "end_time": "2024-08-08T15:00:58.295032Z",
     "start_time": "2024-08-08T15:00:58.280502Z"
    }
   },
   "cell_type": "code",
   "source": [
    "#organize\n",
    "pilot_processing_mature = pilot_processing_mature[['variety', 'machine', 'acres', 'vpm', 'strings']]\n",
    "pilot_processing_babies = pilot_processing_babies[['variety', 'machine', 'acres', 'vpm', 'strings']]\n",
    "perrault_processing_mature = perrault_processing_mature[['variety', 'machine', 'acres', 'vpm', 'strings']]\n",
    "perrault_processing_babies = perrault_processing_babies[['variety', 'machine', 'acres', 'vpm', 'strings']]"
   ],
   "id": "36028f9e9b901fbf",
   "outputs": [],
   "execution_count": 105
  },
  {
   "metadata": {},
   "cell_type": "markdown",
   "source": "Fill in missing values",
   "id": "efaa38594e8e48aa"
  },
  {
   "metadata": {
    "ExecuteTime": {
     "end_time": "2024-08-08T15:01:00.884339Z",
     "start_time": "2024-08-08T15:01:00.867820Z"
    }
   },
   "cell_type": "code",
   "source": [
    "# perrault_processing_mature and pilot_processing_babies have 3 missing vpm.  add by either machine 3, average, or estimate\n",
    "perrault_processing_mature.loc[2,'vpm'] = 19.349\n",
    "perrault_processing_mature.loc[4,'vpm'] = 24.494\n",
    "pilot_processing_babies.loc[1, 'vpm'] = 27.00\n",
    "pilot_processing_babies.loc[1, 'machine'] = 2.0\n",
    "perrault_processing_mature.loc[2,'machine'] = 1.0\n",
    "perrault_processing_mature.loc[4,'machine'] = 1.0\n",
    "\n"
   ],
   "id": "a3487ec976ab1515",
   "outputs": [],
   "execution_count": 106
  },
  {
   "metadata": {
    "ExecuteTime": {
     "end_time": "2024-08-08T15:01:05.037129Z",
     "start_time": "2024-08-08T15:01:05.023645Z"
    }
   },
   "cell_type": "code",
   "source": [
    "#stack perrault_processing_mature and _babies\n",
    "#stack pilot_processing_mature and _babies\n",
    "harvest_perrault = pd.concat([perrault_processing_mature, perrault_processing_babies], axis = 0, ignore_index = True)\n",
    "harvest_pilot = pd.concat([pilot_processing_mature, pilot_processing_babies], axis = 0, ignore_index = True)"
   ],
   "id": "e09283c1e189852f",
   "outputs": [],
   "execution_count": 107
  },
  {
   "metadata": {
    "ExecuteTime": {
     "end_time": "2024-08-08T15:01:09.193655Z",
     "start_time": "2024-08-08T15:01:09.181150Z"
    }
   },
   "cell_type": "code",
   "source": [
    "#check acres \n",
    "harvest_perrault['acres'].sum() + harvest_pilot['acres'].sum()"
   ],
   "id": "d6bebebaaf8eeb0a",
   "outputs": [
    {
     "data": {
      "text/plain": [
       "1446.324"
      ]
     },
     "execution_count": 108,
     "metadata": {},
     "output_type": "execute_result"
    }
   ],
   "execution_count": 108
  },
  {
   "metadata": {
    "ExecuteTime": {
     "end_time": "2024-08-08T15:02:06.904617Z",
     "start_time": "2024-08-08T15:02:06.892112Z"
    }
   },
   "cell_type": "code",
   "source": [
    "harvest_perrault.to_csv('harvester_perrault.csv')\n",
    "harvest_pilot.to_csv('harvest_pilot.csv')"
   ],
   "id": "40bc7f00b77686c5",
   "outputs": [],
   "execution_count": 109
  },
  {
   "metadata": {},
   "cell_type": "markdown",
   "source": "How many Perrault Machines Operating",
   "id": "f73519d10e3fdf4f"
  },
  {
   "metadata": {
    "ExecuteTime": {
     "end_time": "2024-08-08T14:34:15.548635Z",
     "start_time": "2024-08-08T14:34:15.520161Z"
    }
   },
   "cell_type": "code",
   "source": "harvest_perrault",
   "id": "b80dd525ac3e8c78",
   "outputs": [
    {
     "data": {
      "text/plain": [
       "         variety  machine   acres     vpm     strings  productive_minutes\n",
       "0          Citra      1.0  130.42  34.977  247793.800         7084.478372\n",
       "1   Experimental      1.0   30.20  47.169   53695.600         1138.366300\n",
       "2       HBC 1019      1.0    4.89  19.349   10141.860          524.154220\n",
       "3        HBC 522      1.0   16.00  12.150   33184.000         2731.193416\n",
       "4        HBC 586      1.0   63.44  24.494  115744.480         4725.421736\n",
       "5        HBC 638      1.0   14.85  15.637   26403.300         1688.514421\n",
       "6        HBC 682      1.0  194.34  29.843  345536.520        11578.478035\n",
       "7        Idaho 7      1.0   19.04  13.580   33853.120         2492.865979\n",
       "8         Mosaic      1.0  205.49  26.546  365361.220        13763.324795\n",
       "9       Palisade      1.0   28.99  21.092   41951.910         1988.996302\n",
       "10         Sabro      1.0   35.01  22.804   62247.780         2729.686897\n",
       "11        Simcoe      1.0  364.24  36.933  923107.900        24994.121788\n",
       "12         Talus      1.0   29.68  18.224   52771.040         2895.689201\n",
       "13         Citra      1.0   83.79  51.624  156672.915         3034.885228\n",
       "14        Mosaic      1.0   69.01  30.354  122699.780         4042.293602\n",
       "15        Simcoe      1.0   32.24  47.528   57322.720         1206.083151"
      ],
      "text/html": [
       "<div>\n",
       "<style scoped>\n",
       "    .dataframe tbody tr th:only-of-type {\n",
       "        vertical-align: middle;\n",
       "    }\n",
       "\n",
       "    .dataframe tbody tr th {\n",
       "        vertical-align: top;\n",
       "    }\n",
       "\n",
       "    .dataframe thead th {\n",
       "        text-align: right;\n",
       "    }\n",
       "</style>\n",
       "<table border=\"1\" class=\"dataframe\">\n",
       "  <thead>\n",
       "    <tr style=\"text-align: right;\">\n",
       "      <th></th>\n",
       "      <th>variety</th>\n",
       "      <th>machine</th>\n",
       "      <th>acres</th>\n",
       "      <th>vpm</th>\n",
       "      <th>strings</th>\n",
       "      <th>productive_minutes</th>\n",
       "    </tr>\n",
       "  </thead>\n",
       "  <tbody>\n",
       "    <tr>\n",
       "      <th>0</th>\n",
       "      <td>Citra</td>\n",
       "      <td>1.0</td>\n",
       "      <td>130.42</td>\n",
       "      <td>34.977</td>\n",
       "      <td>247793.800</td>\n",
       "      <td>7084.478372</td>\n",
       "    </tr>\n",
       "    <tr>\n",
       "      <th>1</th>\n",
       "      <td>Experimental</td>\n",
       "      <td>1.0</td>\n",
       "      <td>30.20</td>\n",
       "      <td>47.169</td>\n",
       "      <td>53695.600</td>\n",
       "      <td>1138.366300</td>\n",
       "    </tr>\n",
       "    <tr>\n",
       "      <th>2</th>\n",
       "      <td>HBC 1019</td>\n",
       "      <td>1.0</td>\n",
       "      <td>4.89</td>\n",
       "      <td>19.349</td>\n",
       "      <td>10141.860</td>\n",
       "      <td>524.154220</td>\n",
       "    </tr>\n",
       "    <tr>\n",
       "      <th>3</th>\n",
       "      <td>HBC 522</td>\n",
       "      <td>1.0</td>\n",
       "      <td>16.00</td>\n",
       "      <td>12.150</td>\n",
       "      <td>33184.000</td>\n",
       "      <td>2731.193416</td>\n",
       "    </tr>\n",
       "    <tr>\n",
       "      <th>4</th>\n",
       "      <td>HBC 586</td>\n",
       "      <td>1.0</td>\n",
       "      <td>63.44</td>\n",
       "      <td>24.494</td>\n",
       "      <td>115744.480</td>\n",
       "      <td>4725.421736</td>\n",
       "    </tr>\n",
       "    <tr>\n",
       "      <th>5</th>\n",
       "      <td>HBC 638</td>\n",
       "      <td>1.0</td>\n",
       "      <td>14.85</td>\n",
       "      <td>15.637</td>\n",
       "      <td>26403.300</td>\n",
       "      <td>1688.514421</td>\n",
       "    </tr>\n",
       "    <tr>\n",
       "      <th>6</th>\n",
       "      <td>HBC 682</td>\n",
       "      <td>1.0</td>\n",
       "      <td>194.34</td>\n",
       "      <td>29.843</td>\n",
       "      <td>345536.520</td>\n",
       "      <td>11578.478035</td>\n",
       "    </tr>\n",
       "    <tr>\n",
       "      <th>7</th>\n",
       "      <td>Idaho 7</td>\n",
       "      <td>1.0</td>\n",
       "      <td>19.04</td>\n",
       "      <td>13.580</td>\n",
       "      <td>33853.120</td>\n",
       "      <td>2492.865979</td>\n",
       "    </tr>\n",
       "    <tr>\n",
       "      <th>8</th>\n",
       "      <td>Mosaic</td>\n",
       "      <td>1.0</td>\n",
       "      <td>205.49</td>\n",
       "      <td>26.546</td>\n",
       "      <td>365361.220</td>\n",
       "      <td>13763.324795</td>\n",
       "    </tr>\n",
       "    <tr>\n",
       "      <th>9</th>\n",
       "      <td>Palisade</td>\n",
       "      <td>1.0</td>\n",
       "      <td>28.99</td>\n",
       "      <td>21.092</td>\n",
       "      <td>41951.910</td>\n",
       "      <td>1988.996302</td>\n",
       "    </tr>\n",
       "    <tr>\n",
       "      <th>10</th>\n",
       "      <td>Sabro</td>\n",
       "      <td>1.0</td>\n",
       "      <td>35.01</td>\n",
       "      <td>22.804</td>\n",
       "      <td>62247.780</td>\n",
       "      <td>2729.686897</td>\n",
       "    </tr>\n",
       "    <tr>\n",
       "      <th>11</th>\n",
       "      <td>Simcoe</td>\n",
       "      <td>1.0</td>\n",
       "      <td>364.24</td>\n",
       "      <td>36.933</td>\n",
       "      <td>923107.900</td>\n",
       "      <td>24994.121788</td>\n",
       "    </tr>\n",
       "    <tr>\n",
       "      <th>12</th>\n",
       "      <td>Talus</td>\n",
       "      <td>1.0</td>\n",
       "      <td>29.68</td>\n",
       "      <td>18.224</td>\n",
       "      <td>52771.040</td>\n",
       "      <td>2895.689201</td>\n",
       "    </tr>\n",
       "    <tr>\n",
       "      <th>13</th>\n",
       "      <td>Citra</td>\n",
       "      <td>1.0</td>\n",
       "      <td>83.79</td>\n",
       "      <td>51.624</td>\n",
       "      <td>156672.915</td>\n",
       "      <td>3034.885228</td>\n",
       "    </tr>\n",
       "    <tr>\n",
       "      <th>14</th>\n",
       "      <td>Mosaic</td>\n",
       "      <td>1.0</td>\n",
       "      <td>69.01</td>\n",
       "      <td>30.354</td>\n",
       "      <td>122699.780</td>\n",
       "      <td>4042.293602</td>\n",
       "    </tr>\n",
       "    <tr>\n",
       "      <th>15</th>\n",
       "      <td>Simcoe</td>\n",
       "      <td>1.0</td>\n",
       "      <td>32.24</td>\n",
       "      <td>47.528</td>\n",
       "      <td>57322.720</td>\n",
       "      <td>1206.083151</td>\n",
       "    </tr>\n",
       "  </tbody>\n",
       "</table>\n",
       "</div>"
      ]
     },
     "execution_count": 85,
     "metadata": {},
     "output_type": "execute_result"
    }
   ],
   "execution_count": 85
  },
  {
   "metadata": {
    "ExecuteTime": {
     "end_time": "2024-08-07T19:01:50.564445Z",
     "start_time": "2024-08-07T19:01:50.551477Z"
    }
   },
   "cell_type": "code",
   "source": [
    "a = 480 # 8 hour Shift\n",
    "b = 450 # 7.5 hour shifts\n",
    "c = 540 # 9 hour shift\n",
    "d = 600 # 10 hour shift\n",
    "h = 690 # 11.5 hour shift"
   ],
   "id": "ee5535c6f64b61a4",
   "outputs": [],
   "execution_count": 136
  },
  {
   "metadata": {
    "ExecuteTime": {
     "end_time": "2024-08-07T23:40:55.415797Z",
     "start_time": "2024-08-07T23:40:55.402387Z"
    }
   },
   "cell_type": "code",
   "source": "harvest_perrault['variety'].unique()",
   "id": "50abd05967e462d9",
   "outputs": [
    {
     "data": {
      "text/plain": [
       "array(['Citra', 'Experimental', 'HBC 1019', 'HBC 522', 'HBC 586',\n",
       "       'HBC 638', 'HBC 682', 'Idaho 7', 'Mosaic', 'Palisade', 'Sabro',\n",
       "       'Simcoe', 'Talus'], dtype=object)"
      ]
     },
     "execution_count": 503,
     "metadata": {},
     "output_type": "execute_result"
    }
   ],
   "execution_count": 503
  },
  {
   "metadata": {
    "ExecuteTime": {
     "end_time": "2024-08-07T23:48:42.907115Z",
     "start_time": "2024-08-07T23:48:42.457731Z"
    }
   },
   "cell_type": "code",
   "source": [
    "# Define the order in which varieties need to be picked\n",
    "picking_order = [\n",
    "    'Simcoe', 'Citra', 'Sabro', 'Mosaic', 'HBC 1019', 'Palisade', 'HBC 522', 'Idaho 7', 'Talus', 'HBC 682',\n",
    "    'HBC 638', 'HBC 586', 'Experimental'\n",
    "]\n",
    "\n",
    "# Sort the DataFrame based on the picking order\n",
    "harvest_perrault['order'] = harvest_perrault['variety'].apply(lambda x: picking_order.index(x))\n",
    "harvest_perrault = harvest_perrault.sort_values(by='order')#.drop(columns='order')\n",
    "\n",
    "def is_working_day(date):\n",
    "    # Define working days (Monday to Friday)\n",
    "    return date.weekday() < 5\n",
    "\n",
    "def next_working_day(current_datetime):\n",
    "    next_day = current_datetime + timedelta(days=1)\n",
    "    while not is_working_day(next_day):\n",
    "        next_day += timedelta(days=1)\n",
    "    return next_day\n",
    "\n",
    "def calculate_shift_time_with_breaks(total_minutes, work_period=240, break_duration=10, lunch_duration=30, shift_length=480):\n",
    "    # Calculate the number of 10-minute breaks per shift\n",
    "    num_breaks_per_shift = shift_length // work_period\n",
    "    total_break_time_per_shift = num_breaks_per_shift * break_duration\n",
    "\n",
    "    # Effective shift length excluding lunch\n",
    "    effective_shift_length = shift_length - total_break_time_per_shift\n",
    "\n",
    "    # Calculate the number of shifts needed\n",
    "    num_shifts = (total_minutes // effective_shift_length) + 2\n",
    "\n",
    "    return num_shifts, effective_shift_length, total_break_time_per_shift\n",
    "\n",
    "def create_shift_schedule_with_breaks(data, start_datetime, shift_length=480, break_duration=10, lunch_duration=30):\n",
    "    schedule = []\n",
    "    current_datetime = start_datetime\n",
    "\n",
    "    for index, row in data.iterrows():\n",
    "        variety = row['variety']\n",
    "        total_time = row['productive_minutes']\n",
    "\n",
    "        num_shifts, effective_shift_length, total_break_time_per_shift = calculate_shift_time_with_breaks(\n",
    "            total_time, shift_length=shift_length)\n",
    "\n",
    "        while total_time > 0:\n",
    "            if not is_working_day(current_datetime):\n",
    "                current_datetime = datetime.combine(next_working_day(current_datetime), datetime.min.time()) + timedelta(hours=8)\n",
    "\n",
    "            shift_end_time = current_datetime + timedelta(minutes=effective_shift_length + total_break_time_per_shift)\n",
    "\n",
    "            if total_time > effective_shift_length:\n",
    "                schedule.append({\n",
    "                    'variety': variety,\n",
    "                    'ShiftStart': current_datetime,\n",
    "                    'ShiftEnd': shift_end_time,\n",
    "                    'ShiftTime': effective_shift_length,\n",
    "                    'BreakTime': total_break_time_per_shift,\n",
    "                    'LunchBreak': lunch_duration if effective_shift_length >= 300 else 0\n",
    "                })\n",
    "                total_time -= effective_shift_length\n",
    "            else:\n",
    "                break_time = (total_time // 240) * break_duration\n",
    "                shift_end_time = current_datetime + timedelta(minutes=total_time + break_time)\n",
    "                schedule.append({\n",
    "                    'variety': variety,\n",
    "                    'ShiftStart': current_datetime,\n",
    "                    'ShiftEnd': shift_end_time,\n",
    "                    'ShiftTime': total_time,\n",
    "                    'BreakTime': break_time,\n",
    "                    'LunchBreak': 0 if total_time <= 300 else lunch_duration\n",
    "                })\n",
    "                total_time = 0\n",
    "\n",
    "            current_datetime = shift_end_time\n",
    "\n",
    "        # Move to the next working day for the next variety\n",
    "        current_datetime = datetime.combine(next_working_day(current_datetime), datetime.min.time()) + timedelta(hours=8)\n",
    "\n",
    "    return pd.DataFrame(schedule)\n",
    "\n",
    "# Define the start date and time\n",
    "start_datetime = datetime(2024, 8, 26, 6, 0)  # August 26, 2024, 06:00 AM\n",
    "\n",
    "# Create the shift schedule with breaks\n",
    "shift_schedule = create_shift_schedule_with_breaks(harvest_perrault, start_datetime)\n",
    "\n",
    "# Add a week column to determine the pay period\n",
    "shift_schedule['Week'] = shift_schedule['ShiftStart'].dt.to_period('W-SAT')\n",
    "\n",
    "# Calculate the total hours per week\n",
    "shift_schedule['ShiftHours'] = shift_schedule['ShiftTime'] / 60  # Convert minutes to hours\n",
    "weekly_hours = shift_schedule.groupby('Week')['ShiftHours'].sum()  # Calculate total hours per week\n",
    "\n",
    "# Calculate overtime hours per week\n",
    "weekly_hours = weekly_hours.reset_index()\n",
    "weekly_hours['OvertimeHours'] = weekly_hours['ShiftHours'].apply(lambda x: max(0, x - 40))\n",
    "\n",
    "# Merge overtime hours back to the shift schedule\n",
    "shift_schedule = shift_schedule.merge(weekly_hours[['Week', 'OvertimeHours']], on='Week', how='left')\n",
    "\n",
    "# Display the shift schedule\n",
    "print(shift_schedule)\n",
    "\n",
    "# Plot the Gantt chart\n",
    "fig, ax = plt.subplots(figsize=(20, 10))  # Increase the figure size\n",
    "\n",
    "for i, variety in enumerate(shift_schedule['variety'].unique()):\n",
    "    variety_shifts = shift_schedule[shift_schedule['variety'] == variety]\n",
    "    for j, shift in variety_shifts.iterrows():\n",
    "        ax.barh(variety, (shift['ShiftEnd'] - shift['ShiftStart']).total_seconds() / 3600, left=shift['ShiftStart'], height=0.4)\n",
    "\n",
    "# Format the x-axis to show dates properly\n",
    "ax.xaxis_date()\n",
    "ax.xaxis.set_major_locator(mdates.DayLocator(interval=7))  # Set major ticks every 7 days\n",
    "ax.xaxis.set_minor_locator(mdates.DayLocator(interval=1))  # Set minor ticks every 1 day\n",
    "ax.xaxis.set_major_formatter(mdates.DateFormatter('%Y-%m-%d %H:%M'))\n",
    "\n",
    "plt.setp(ax.get_xticklabels(), rotation=45, ha='right')\n",
    "plt.gcf().autofmt_xdate()\n",
    "\n",
    "ax.set_xlabel('Date and Time')\n",
    "ax.set_ylabel('Variety')\n",
    "ax.set_title('Gantt Chart of Harvest Schedule')\n",
    "plt.tight_layout()\n",
    "plt.show()\n",
    "\n",
    "\n",
    "\n",
    "\n",
    "\n",
    "\n",
    "\n",
    "\n"
   ],
   "id": "2148f6fa8824a1ca",
   "outputs": [
    {
     "name": "stdout",
     "output_type": "stream",
     "text": [
      "         variety          ShiftStart                   ShiftEnd   ShiftTime  \\\n",
      "0         Simcoe 2024-08-26 06:00:00 2024-08-26 14:00:00.000000  460.000000   \n",
      "1         Simcoe 2024-08-26 14:00:00 2024-08-26 22:00:00.000000  460.000000   \n",
      "2         Simcoe 2024-08-26 22:00:00 2024-08-27 06:00:00.000000  460.000000   \n",
      "3         Simcoe 2024-08-27 06:00:00 2024-08-27 14:00:00.000000  460.000000   \n",
      "4         Simcoe 2024-08-27 14:00:00 2024-08-27 22:00:00.000000  460.000000   \n",
      "..           ...                 ...                        ...         ...   \n",
      "65       HBC 586 2024-10-08 08:00:00 2024-10-08 16:00:00.000000  460.000000   \n",
      "66       HBC 586 2024-10-08 16:00:00 2024-10-09 00:00:00.000000  460.000000   \n",
      "67       HBC 586 2024-10-09 00:00:00 2024-10-09 08:00:00.000000  460.000000   \n",
      "68       HBC 586 2024-10-09 08:00:00 2024-10-09 11:15:08.434719  195.140579   \n",
      "69  Experimental 2024-10-10 08:00:00 2024-10-10 14:29:27.325998  379.455433   \n",
      "\n",
      "    BreakTime  LunchBreak                   Week  ShiftHours  OvertimeHours  \n",
      "0        20.0          30  2024-08-25/2024-08-31    7.666667      75.000000  \n",
      "1        20.0          30  2024-08-25/2024-08-31    7.666667      75.000000  \n",
      "2        20.0          30  2024-08-25/2024-08-31    7.666667      75.000000  \n",
      "3        20.0          30  2024-08-25/2024-08-31    7.666667      75.000000  \n",
      "4        20.0          30  2024-08-25/2024-08-31    7.666667      75.000000  \n",
      "..        ...         ...                    ...         ...            ...  \n",
      "65       20.0          30  2024-10-06/2024-10-12    7.666667       1.957236  \n",
      "66       20.0          30  2024-10-06/2024-10-12    7.666667       1.957236  \n",
      "67       20.0          30  2024-10-06/2024-10-12    7.666667       1.957236  \n",
      "68        0.0           0  2024-10-06/2024-10-12    3.252343       1.957236  \n",
      "69       10.0          30  2024-10-06/2024-10-12    6.324257       1.957236  \n",
      "\n",
      "[70 rows x 9 columns]\n"
     ]
    },
    {
     "data": {
      "text/plain": [
       "<Figure size 2000x1000 with 1 Axes>"
      ],
      "image/png": "[encoded data removed]"
     },
     "metadata": {},
     "output_type": "display_data"
    }
   ],
   "execution_count": 509
  },
  {
   "metadata": {
    "ExecuteTime": {
     "end_time": "2024-08-07T23:48:53.857343Z",
     "start_time": "2024-08-07T23:48:53.836035Z"
    }
   },
   "cell_type": "code",
   "source": "shift_schedule",
   "id": "213b8c4f894837b3",
   "outputs": [
    {
     "data": {
      "text/plain": [
       "         variety          ShiftStart                   ShiftEnd   ShiftTime  \\\n",
       "0         Simcoe 2024-08-26 06:00:00 2024-08-26 14:00:00.000000  460.000000   \n",
       "1         Simcoe 2024-08-26 14:00:00 2024-08-26 22:00:00.000000  460.000000   \n",
       "2         Simcoe 2024-08-26 22:00:00 2024-08-27 06:00:00.000000  460.000000   \n",
       "3         Simcoe 2024-08-27 06:00:00 2024-08-27 14:00:00.000000  460.000000   \n",
       "4         Simcoe 2024-08-27 14:00:00 2024-08-27 22:00:00.000000  460.000000   \n",
       "..           ...                 ...                        ...         ...   \n",
       "65       HBC 586 2024-10-08 08:00:00 2024-10-08 16:00:00.000000  460.000000   \n",
       "66       HBC 586 2024-10-08 16:00:00 2024-10-09 00:00:00.000000  460.000000   \n",
       "67       HBC 586 2024-10-09 00:00:00 2024-10-09 08:00:00.000000  460.000000   \n",
       "68       HBC 586 2024-10-09 08:00:00 2024-10-09 11:15:08.434719  195.140579   \n",
       "69  Experimental 2024-10-10 08:00:00 2024-10-10 14:29:27.325998  379.455433   \n",
       "\n",
       "    BreakTime  LunchBreak                   Week  ShiftHours  OvertimeHours  \n",
       "0        20.0          30  2024-08-25/2024-08-31    7.666667      75.000000  \n",
       "1        20.0          30  2024-08-25/2024-08-31    7.666667      75.000000  \n",
       "2        20.0          30  2024-08-25/2024-08-31    7.666667      75.000000  \n",
       "3        20.0          30  2024-08-25/2024-08-31    7.666667      75.000000  \n",
       "4        20.0          30  2024-08-25/2024-08-31    7.666667      75.000000  \n",
       "..        ...         ...                    ...         ...            ...  \n",
       "65       20.0          30  2024-10-06/2024-10-12    7.666667       1.957236  \n",
       "66       20.0          30  2024-10-06/2024-10-12    7.666667       1.957236  \n",
       "67       20.0          30  2024-10-06/2024-10-12    7.666667       1.957236  \n",
       "68        0.0           0  2024-10-06/2024-10-12    3.252343       1.957236  \n",
       "69       10.0          30  2024-10-06/2024-10-12    6.324257       1.957236  \n",
       "\n",
       "[70 rows x 9 columns]"
      ],
      "text/html": [
       "<div>\n",
       "<style scoped>\n",
       "    .dataframe tbody tr th:only-of-type {\n",
       "        vertical-align: middle;\n",
       "    }\n",
       "\n",
       "    .dataframe tbody tr th {\n",
       "        vertical-align: top;\n",
       "    }\n",
       "\n",
       "    .dataframe thead th {\n",
       "        text-align: right;\n",
       "    }\n",
       "</style>\n",
       "<table border=\"1\" class=\"dataframe\">\n",
       "  <thead>\n",
       "    <tr style=\"text-align: right;\">\n",
       "      <th></th>\n",
       "      <th>variety</th>\n",
       "      <th>ShiftStart</th>\n",
       "      <th>ShiftEnd</th>\n",
       "      <th>ShiftTime</th>\n",
       "      <th>BreakTime</th>\n",
       "      <th>LunchBreak</th>\n",
       "      <th>Week</th>\n",
       "      <th>ShiftHours</th>\n",
       "      <th>OvertimeHours</th>\n",
       "    </tr>\n",
       "  </thead>\n",
       "  <tbody>\n",
       "    <tr>\n",
       "      <th>0</th>\n",
       "      <td>Simcoe</td>\n",
       "      <td>2024-08-26 06:00:00</td>\n",
       "      <td>2024-08-26 14:00:00.000000</td>\n",
       "      <td>460.000000</td>\n",
       "      <td>20.0</td>\n",
       "      <td>30</td>\n",
       "      <td>2024-08-25/2024-08-31</td>\n",
       "      <td>7.666667</td>\n",
       "      <td>75.000000</td>\n",
       "    </tr>\n",
       "    <tr>\n",
       "      <th>1</th>\n",
       "      <td>Simcoe</td>\n",
       "      <td>2024-08-26 14:00:00</td>\n",
       "      <td>2024-08-26 22:00:00.000000</td>\n",
       "      <td>460.000000</td>\n",
       "      <td>20.0</td>\n",
       "      <td>30</td>\n",
       "      <td>2024-08-25/2024-08-31</td>\n",
       "      <td>7.666667</td>\n",
       "      <td>75.000000</td>\n",
       "    </tr>\n",
       "    <tr>\n",
       "      <th>2</th>\n",
       "      <td>Simcoe</td>\n",
       "      <td>2024-08-26 22:00:00</td>\n",
       "      <td>2024-08-27 06:00:00.000000</td>\n",
       "      <td>460.000000</td>\n",
       "      <td>20.0</td>\n",
       "      <td>30</td>\n",
       "      <td>2024-08-25/2024-08-31</td>\n",
       "      <td>7.666667</td>\n",
       "      <td>75.000000</td>\n",
       "    </tr>\n",
       "    <tr>\n",
       "      <th>3</th>\n",
       "      <td>Simcoe</td>\n",
       "      <td>2024-08-27 06:00:00</td>\n",
       "      <td>2024-08-27 14:00:00.000000</td>\n",
       "      <td>460.000000</td>\n",
       "      <td>20.0</td>\n",
       "      <td>30</td>\n",
       "      <td>2024-08-25/2024-08-31</td>\n",
       "      <td>7.666667</td>\n",
       "      <td>75.000000</td>\n",
       "    </tr>\n",
       "    <tr>\n",
       "      <th>4</th>\n",
       "      <td>Simcoe</td>\n",
       "      <td>2024-08-27 14:00:00</td>\n",
       "      <td>2024-08-27 22:00:00.000000</td>\n",
       "      <td>460.000000</td>\n",
       "      <td>20.0</td>\n",
       "      <td>30</td>\n",
       "      <td>2024-08-25/2024-08-31</td>\n",
       "      <td>7.666667</td>\n",
       "      <td>75.000000</td>\n",
       "    </tr>\n",
       "    <tr>\n",
       "      <th>...</th>\n",
       "      <td>...</td>\n",
       "      <td>...</td>\n",
       "      <td>...</td>\n",
       "      <td>...</td>\n",
       "      <td>...</td>\n",
       "      <td>...</td>\n",
       "      <td>...</td>\n",
       "      <td>...</td>\n",
       "      <td>...</td>\n",
       "    </tr>\n",
       "    <tr>\n",
       "      <th>65</th>\n",
       "      <td>HBC 586</td>\n",
       "      <td>2024-10-08 08:00:00</td>\n",
       "      <td>2024-10-08 16:00:00.000000</td>\n",
       "      <td>460.000000</td>\n",
       "      <td>20.0</td>\n",
       "      <td>30</td>\n",
       "      <td>2024-10-06/2024-10-12</td>\n",
       "      <td>7.666667</td>\n",
       "      <td>1.957236</td>\n",
       "    </tr>\n",
       "    <tr>\n",
       "      <th>66</th>\n",
       "      <td>HBC 586</td>\n",
       "      <td>2024-10-08 16:00:00</td>\n",
       "      <td>2024-10-09 00:00:00.000000</td>\n",
       "      <td>460.000000</td>\n",
       "      <td>20.0</td>\n",
       "      <td>30</td>\n",
       "      <td>2024-10-06/2024-10-12</td>\n",
       "      <td>7.666667</td>\n",
       "      <td>1.957236</td>\n",
       "    </tr>\n",
       "    <tr>\n",
       "      <th>67</th>\n",
       "      <td>HBC 586</td>\n",
       "      <td>2024-10-09 00:00:00</td>\n",
       "      <td>2024-10-09 08:00:00.000000</td>\n",
       "      <td>460.000000</td>\n",
       "      <td>20.0</td>\n",
       "      <td>30</td>\n",
       "      <td>2024-10-06/2024-10-12</td>\n",
       "      <td>7.666667</td>\n",
       "      <td>1.957236</td>\n",
       "    </tr>\n",
       "    <tr>\n",
       "      <th>68</th>\n",
       "      <td>HBC 586</td>\n",
       "      <td>2024-10-09 08:00:00</td>\n",
       "      <td>2024-10-09 11:15:08.434719</td>\n",
       "      <td>195.140579</td>\n",
       "      <td>0.0</td>\n",
       "      <td>0</td>\n",
       "      <td>2024-10-06/2024-10-12</td>\n",
       "      <td>3.252343</td>\n",
       "      <td>1.957236</td>\n",
       "    </tr>\n",
       "    <tr>\n",
       "      <th>69</th>\n",
       "      <td>Experimental</td>\n",
       "      <td>2024-10-10 08:00:00</td>\n",
       "      <td>2024-10-10 14:29:27.325998</td>\n",
       "      <td>379.455433</td>\n",
       "      <td>10.0</td>\n",
       "      <td>30</td>\n",
       "      <td>2024-10-06/2024-10-12</td>\n",
       "      <td>6.324257</td>\n",
       "      <td>1.957236</td>\n",
       "    </tr>\n",
       "  </tbody>\n",
       "</table>\n",
       "<p>70 rows × 9 columns</p>\n",
       "</div>"
      ]
     },
     "execution_count": 510,
     "metadata": {},
     "output_type": "execute_result"
    }
   ],
   "execution_count": 510
  },
  {
   "metadata": {},
   "cell_type": "code",
   "outputs": [],
   "execution_count": null,
   "source": "",
   "id": "5f2685c4c64723e1"
  }
 ],
 "metadata": {
  "kernelspec": {
   "display_name": "Python 3",
   "language": "python",
   "name": "python3"
  },
  "language_info": {
   "codemirror_mode": {
    "name": "ipython",
    "version": 2
   },
   "file_extension": ".py",
   "mimetype": "text/x-python",
   "name": "python",
   "nbconvert_exporter": "python",
   "pygments_lexer": "ipython2",
   "version": "2.7.6"
  }
 },
 "nbformat": 4,
 "nbformat_minor": 5
}
