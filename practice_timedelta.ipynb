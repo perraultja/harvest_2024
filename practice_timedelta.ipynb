{
 "cells": [
  {
   "cell_type": "code",
   "id": "initial_id",
   "metadata": {
    "collapsed": true,
    "ExecuteTime": {
     "end_time": "2024-08-15T19:10:04.870202Z",
     "start_time": "2024-08-15T19:10:04.859728Z"
    }
   },
   "source": [
    "import pandas as pd\n",
    "from datetime import datetime, timedelta"
   ],
   "outputs": [],
   "execution_count": 2
  },
  {
   "metadata": {
    "ExecuteTime": {
     "end_time": "2024-08-15T19:10:22.870182Z",
     "start_time": "2024-08-15T19:10:22.856633Z"
    }
   },
   "cell_type": "code",
   "source": "today = datetime.now()",
   "id": "71d975cea6f0fd52",
   "outputs": [],
   "execution_count": 3
  },
  {
   "metadata": {
    "ExecuteTime": {
     "end_time": "2024-08-15T19:10:29.245399Z",
     "start_time": "2024-08-15T19:10:29.227949Z"
    }
   },
   "cell_type": "code",
   "source": "today",
   "id": "af84a72d2630b4a3",
   "outputs": [
    {
     "data": {
      "text/plain": [
       "datetime.datetime(2024, 8, 15, 12, 10, 22, 859621)"
      ]
     },
     "execution_count": 4,
     "metadata": {},
     "output_type": "execute_result"
    }
   ],
   "execution_count": 4
  },
  {
   "metadata": {
    "ExecuteTime": {
     "end_time": "2024-08-15T19:11:28.881708Z",
     "start_time": "2024-08-15T19:11:28.865291Z"
    }
   },
   "cell_type": "code",
   "source": "tomorrow = today + timedelta(days=1)",
   "id": "1369a9c28cc4a7fb",
   "outputs": [],
   "execution_count": 5
  },
  {
   "metadata": {
    "ExecuteTime": {
     "end_time": "2024-08-15T19:11:37.331811Z",
     "start_time": "2024-08-15T19:11:37.314342Z"
    }
   },
   "cell_type": "code",
   "source": "tomorrow",
   "id": "ef2a8076adf810c2",
   "outputs": [
    {
     "data": {
      "text/plain": [
       "datetime.datetime(2024, 8, 16, 12, 10, 22, 859621)"
      ]
     },
     "execution_count": 6,
     "metadata": {},
     "output_type": "execute_result"
    }
   ],
   "execution_count": 6
  },
  {
   "metadata": {
    "ExecuteTime": {
     "end_time": "2024-08-15T19:22:05.463218Z",
     "start_time": "2024-08-15T19:22:05.454714Z"
    }
   },
   "cell_type": "code",
   "source": "start_datetime = datetime(2024, 9, 1, 6, 0)",
   "id": "57e2e17d15dd6b27",
   "outputs": [],
   "execution_count": 9
  },
  {
   "metadata": {
    "ExecuteTime": {
     "end_time": "2024-08-15T19:22:07.814248Z",
     "start_time": "2024-08-15T19:22:07.806272Z"
    }
   },
   "cell_type": "code",
   "source": "current_datetime = start_datetime",
   "id": "d2cb661567bf3cf3",
   "outputs": [],
   "execution_count": 10
  },
  {
   "metadata": {
    "ExecuteTime": {
     "end_time": "2024-08-15T19:22:08.539810Z",
     "start_time": "2024-08-15T19:22:08.531831Z"
    }
   },
   "cell_type": "code",
   "source": "next_day = current_datetime + timedelta(days=1)",
   "id": "fc3aa09bdbcc2b07",
   "outputs": [],
   "execution_count": 11
  },
  {
   "metadata": {
    "ExecuteTime": {
     "end_time": "2024-08-15T19:22:21.349039Z",
     "start_time": "2024-08-15T19:22:21.336674Z"
    }
   },
   "cell_type": "code",
   "source": "current_datetime ",
   "id": "ace2d084475485c5",
   "outputs": [
    {
     "data": {
      "text/plain": [
       "datetime.datetime(2024, 9, 1, 6, 0)"
      ]
     },
     "execution_count": 12,
     "metadata": {},
     "output_type": "execute_result"
    }
   ],
   "execution_count": 12
  },
  {
   "metadata": {
    "ExecuteTime": {
     "end_time": "2024-08-15T19:22:33.108098Z",
     "start_time": "2024-08-15T19:22:33.095089Z"
    }
   },
   "cell_type": "code",
   "source": "next_day",
   "id": "720115bad89dee3c",
   "outputs": [
    {
     "data": {
      "text/plain": [
       "datetime.datetime(2024, 9, 2, 6, 0)"
      ]
     },
     "execution_count": 13,
     "metadata": {},
     "output_type": "execute_result"
    }
   ],
   "execution_count": 13
  },
  {
   "metadata": {},
   "cell_type": "code",
   "outputs": [],
   "execution_count": null,
   "source": "",
   "id": "3ce98ee786aef682"
  }
 ],
 "metadata": {
  "kernelspec": {
   "display_name": "Python 3",
   "language": "python",
   "name": "python3"
  },
  "language_info": {
   "codemirror_mode": {
    "name": "ipython",
    "version": 2
   },
   "file_extension": ".py",
   "mimetype": "text/x-python",
   "name": "python",
   "nbconvert_exporter": "python",
   "pygments_lexer": "ipython2",
   "version": "2.7.6"
  }
 },
 "nbformat": 4,
 "nbformat_minor": 5
}
