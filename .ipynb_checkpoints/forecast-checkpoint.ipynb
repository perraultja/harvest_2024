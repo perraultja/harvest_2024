{
 "cells": [
  {
   "cell_type": "code",
   "id": "initial_id",
   "metadata": {
    "collapsed": true,
    "ExecuteTime": {
     "end_time": "2024-08-10T06:39:17.796631Z",
     "start_time": "2024-08-10T06:39:16.654153Z"
    }
   },
   "source": [
    "import pandas as pd\n",
    "import matplotlib.pyplot as plt\n",
    "import numpy as np\n",
    "from datetime import datetime, timedelta\n",
    "import matplotlib.dates as mdates\n",
    "#import data\n",
    "harvest_perrault = pd.read_csv('harvester_perrault.csv')\n",
    "harvest_pilot = pd.read_csv('harvest_pilot.csv')\n",
    "harvest_perrault['vpm'] = harvest_perrault['vpm'] * 3 #number of perrault harvesters running per shift\n",
    "harvest_perrault['productive_minutes'] = harvest_perrault['strings'] / harvest_perrault['vpm']\n",
    "perrault = harvest_perrault.groupby('variety')['productive_minutes'].sum().reset_index()\n",
    "# Define the order in which varieties need to be picked\n",
    "picking_order = [\n",
    "    'Simcoe', 'Citra', 'Sabro', 'Mosaic', 'HBC 1019', 'Palisade', 'HBC 522', 'Idaho 7', 'Talus', 'HBC 682',\n",
    "    'HBC 638', 'HBC 586', 'Experimental'\n",
    "]\n",
    "\n",
    "# Sort the DataFrame based on the picking order\n",
    "perrault['order'] = perrault['variety'].apply(lambda x: picking_order.index(x))\n",
    "perrault = perrault.sort_values(by='order')#.drop(columns='order')\n",
    "\n",
    "import xlwings as xw\n",
    "import pandas as pd\n",
    "from datetime import datetime, timedelta\n",
    "\n",
    "data = perrault\n",
    "\n",
    "\n",
    "def is_working_day(date):\n",
    "    return date.weekday() < 5  # Monday to Friday are working days\n",
    "\n",
    "def next_working_day(current_datetime):\n",
    "    next_day = current_datetime + timedelta(days=1)\n",
    "    while not is_working_day(next_day):\n",
    "        next_day += timedelta(days=1)\n",
    "    return next_day\n",
    "\n",
    "def calculate_shift_time_with_breaks(total_minutes, work_period=240, break_duration=10, lunch_duration=30, shift_length=600):\n",
    "    num_breaks_per_shift = shift_length // work_period\n",
    "    total_break_time_per_shift = num_breaks_per_shift * break_duration\n",
    "    effective_shift_length = shift_length - total_break_time_per_shift\n",
    "    return effective_shift_length, total_break_time_per_shift\n",
    "\n",
    "def create_shift_schedule_with_breaks(data, start_datetime, variety_shift_lengths, break_duration=10, lunch_duration=30):\n",
    "    schedule = []\n",
    "    current_datetime = start_datetime\n",
    "\n",
    "    for index, row in data.iterrows():\n",
    "        variety = row['variety']\n",
    "        shift_length = variety_shift_lengths.get(variety, 630)  # Default to 10.5 hours if not specified\n",
    "        effective_shift_length, total_break_time_per_shift = calculate_shift_time_with_breaks(\n",
    "            shift_length, shift_length=shift_length)\n",
    "\n",
    "        if not is_working_day(current_datetime):\n",
    "            current_datetime = datetime.combine(next_working_day(current_datetime), datetime.min.time()) + timedelta(hours=8)\n",
    "\n",
    "        shift_end_time = current_datetime + timedelta(minutes=effective_shift_length + total_break_time_per_shift)\n",
    "\n",
    "        schedule.append({\n",
    "            'variety': variety,\n",
    "            'ShiftStart': current_datetime,\n",
    "            'ShiftEnd': shift_end_time,\n",
    "            'ShiftTime': effective_shift_length,\n",
    "            'BreakTime': total_break_time_per_shift,\n",
    "            'LunchBreak': lunch_duration if effective_shift_length >= 300 else 0,\n",
    "            'Date': current_datetime.strftime('%m-%d-%Y')\n",
    "        })\n",
    "\n",
    "        current_datetime = next_working_day(shift_end_time)\n",
    "        current_datetime = datetime.combine(current_datetime, datetime.min.time()) + timedelta(hours=8)\n",
    "\n",
    "    return pd.DataFrame(schedule)\n",
    "\n",
    "@xw.func\n",
    "def create_shift_schedule_excel(start_date, picking_order, varieties, shift_lengths):\n",
    "    data = pd.DataFrame({\n",
    "        'Picking Order': picking_order,\n",
    "        'variety': varieties,\n",
    "        'shift_length': shift_lengths\n",
    "    })\n",
    "\n",
    "    data = data.sort_values(by='Picking Order').reset_index(drop=True)\n",
    "    start_datetime = datetime.strptime(start_date, '%Y-%m-%d %H:%M')\n",
    "\n",
    "    # Generate the shift schedule\n",
    "    variety_shift_lengths = dict(zip(data['variety'], data['shift_length']))\n",
    "    schedule = create_shift_schedule_with_breaks(data, start_datetime, variety_shift_lengths)\n",
    "\n",
    "    return schedule.values.tolist()\n",
    "\n",
    "# Example usage (this is not part of the function, just to show how it would be used)\n",
    "if __name__ == \"__main__\":\n",
    "    # Assuming `data` is loaded or defined elsewhere\n",
    "    start_datetime = datetime(2024, 9, 1, 6, 0)\n",
    "\n",
    "    variety_shift_lengths = {\n",
    "        'Simcoe': 600,  # 10 hours\n",
    "        'Citra': 600,  # 10 hours\n",
    "        'Sabro': 600,  # 10 hours\n",
    "        'Mosaic': 600,  # 10 hours\n",
    "        'HBC 1019': 450, # 7.5 hours\n",
    "        'Palisade' : 450, # 7.5 hours\n",
    "        'HBC 522' : 450, # 7.5 hours\n",
    "        'Idaho 7' : 450, # 7.5 hours\n",
    "        'Talus' : 450, # 7.5 hours\n",
    "        'HBC 682' : 450, # 7.5 hours\n",
    "        'HBC 638' : 450, # 7.5 hours\n",
    "        'HBC 586' : 450, # 7.5 hours\n",
    "        'Experimental' : 450 # 7.5 hours\n",
    "    }\n",
    "\n",
    "    # You would normally call this from Excel using xlwings, but here's an example:\n",
    "    shift_schedule = create_shift_schedule_with_breaks(data, start_datetime, variety_shift_lengths)\n",
    "    print(shift_schedule)"
   ],
   "outputs": [
    {
     "name": "stdout",
     "output_type": "stream",
     "text": [
      "         variety          ShiftStart            ShiftEnd  ShiftTime  \\\n",
      "0         Simcoe 2024-09-02 08:00:00 2024-09-02 18:00:00        580   \n",
      "1          Citra 2024-09-03 08:00:00 2024-09-03 18:00:00        580   \n",
      "2          Sabro 2024-09-04 08:00:00 2024-09-04 18:00:00        580   \n",
      "3         Mosaic 2024-09-05 08:00:00 2024-09-05 18:00:00        580   \n",
      "4       HBC 1019 2024-09-06 08:00:00 2024-09-06 15:30:00        440   \n",
      "5       Palisade 2024-09-09 08:00:00 2024-09-09 15:30:00        440   \n",
      "6        HBC 522 2024-09-10 08:00:00 2024-09-10 15:30:00        440   \n",
      "7        Idaho 7 2024-09-11 08:00:00 2024-09-11 15:30:00        440   \n",
      "8          Talus 2024-09-12 08:00:00 2024-09-12 15:30:00        440   \n",
      "9        HBC 682 2024-09-13 08:00:00 2024-09-13 15:30:00        440   \n",
      "10       HBC 638 2024-09-16 08:00:00 2024-09-16 15:30:00        440   \n",
      "11       HBC 586 2024-09-17 08:00:00 2024-09-17 15:30:00        440   \n",
      "12  Experimental 2024-09-18 08:00:00 2024-09-18 15:30:00        440   \n",
      "\n",
      "    BreakTime  LunchBreak        Date  \n",
      "0          20          30  09-02-2024  \n",
      "1          20          30  09-03-2024  \n",
      "2          20          30  09-04-2024  \n",
      "3          20          30  09-05-2024  \n",
      "4          10          30  09-06-2024  \n",
      "5          10          30  09-09-2024  \n",
      "6          10          30  09-10-2024  \n",
      "7          10          30  09-11-2024  \n",
      "8          10          30  09-12-2024  \n",
      "9          10          30  09-13-2024  \n",
      "10         10          30  09-16-2024  \n",
      "11         10          30  09-17-2024  \n",
      "12         10          30  09-18-2024  \n"
     ]
    }
   ],
   "execution_count": 1
  },
  {
   "metadata": {
    "ExecuteTime": {
     "end_time": "2024-08-10T06:20:03.357420Z",
     "start_time": "2024-08-10T06:20:03.329424Z"
    }
   },
   "cell_type": "code",
   "source": [
    "#import data\n",
    "harvest_perrault = pd.read_csv('harvester_perrault.csv')\n",
    "harvest_pilot = pd.read_csv('harvest_pilot.csv')"
   ],
   "id": "deb4742c1d0b21e3",
   "outputs": [],
   "execution_count": 3
  },
  {
   "metadata": {},
   "cell_type": "markdown",
   "source": "how many Perrault Harvester's Operating simultaneously?",
   "id": "448dce2126f251ef"
  },
  {
   "metadata": {
    "ExecuteTime": {
     "end_time": "2024-08-10T06:20:04.659402Z",
     "start_time": "2024-08-10T06:20:04.646403Z"
    }
   },
   "cell_type": "code",
   "source": "harvest_perrault['vpm'] = harvest_perrault['vpm'] * 3 #number of perrault harvesters running per shift",
   "id": "ea8d665ba20f2b1",
   "outputs": [],
   "execution_count": 4
  },
  {
   "metadata": {},
   "cell_type": "markdown",
   "source": "Calculate Productive Time",
   "id": "cbccb6f0c365dc1"
  },
  {
   "metadata": {
    "ExecuteTime": {
     "end_time": "2024-08-10T06:20:05.762168Z",
     "start_time": "2024-08-10T06:20:05.749215Z"
    }
   },
   "cell_type": "code",
   "source": "harvest_perrault['productive_minutes'] = harvest_perrault['strings'] / harvest_perrault['vpm']",
   "id": "4f87575e522164a",
   "outputs": [],
   "execution_count": 5
  },
  {
   "metadata": {
    "ExecuteTime": {
     "end_time": "2024-08-10T06:20:06.480506Z",
     "start_time": "2024-08-10T06:20:06.457506Z"
    }
   },
   "cell_type": "code",
   "source": "harvest_perrault['productive_minutes'].sum()",
   "id": "7a8b0537d8b9502",
   "outputs": [
    {
     "data": {
      "text/plain": [
       "28872.851147312547"
      ]
     },
     "execution_count": 6,
     "metadata": {},
     "output_type": "execute_result"
    }
   ],
   "execution_count": 6
  },
  {
   "metadata": {
    "ExecuteTime": {
     "end_time": "2024-08-10T06:20:07.151116Z",
     "start_time": "2024-08-10T06:20:07.140116Z"
    }
   },
   "cell_type": "code",
   "source": "perrault = harvest_perrault.groupby('variety')['productive_minutes'].sum().reset_index()",
   "id": "f6a86ec7ff7ee6c9",
   "outputs": [],
   "execution_count": 7
  },
  {
   "metadata": {
    "ExecuteTime": {
     "end_time": "2024-08-10T06:20:07.860107Z",
     "start_time": "2024-08-10T06:20:07.839107Z"
    }
   },
   "cell_type": "code",
   "source": "perrault['productive_minutes'].sum()",
   "id": "e3d6a9c1b6455bc9",
   "outputs": [
    {
     "data": {
      "text/plain": [
       "28872.85114731255"
      ]
     },
     "execution_count": 8,
     "metadata": {},
     "output_type": "execute_result"
    }
   ],
   "execution_count": 8
  },
  {
   "metadata": {
    "ExecuteTime": {
     "end_time": "2024-08-10T06:20:08.579509Z",
     "start_time": "2024-08-10T06:20:08.567459Z"
    }
   },
   "cell_type": "code",
   "source": "perrault['variety'].unique()",
   "id": "41e88181059d6658",
   "outputs": [
    {
     "data": {
      "text/plain": [
       "array(['Citra', 'Experimental', 'HBC 1019', 'HBC 522', 'HBC 586',\n",
       "       'HBC 638', 'HBC 682', 'Idaho 7', 'Mosaic', 'Palisade', 'Sabro',\n",
       "       'Simcoe', 'Talus'], dtype=object)"
      ]
     },
     "execution_count": 9,
     "metadata": {},
     "output_type": "execute_result"
    }
   ],
   "execution_count": 9
  },
  {
   "metadata": {
    "ExecuteTime": {
     "end_time": "2024-08-10T06:20:09.419915Z",
     "start_time": "2024-08-10T06:20:09.401338Z"
    }
   },
   "cell_type": "code",
   "source": [
    "# Define the order in which varieties need to be picked\n",
    "picking_order = [\n",
    "    'Simcoe', 'Citra', 'Sabro', 'Mosaic', 'HBC 1019', 'Palisade', 'HBC 522', 'Idaho 7', 'Talus', 'HBC 682',\n",
    "    'HBC 638', 'HBC 586', 'Experimental'\n",
    "]\n",
    "\n",
    "# Sort the DataFrame based on the picking order\n",
    "perrault['order'] = perrault['variety'].apply(lambda x: picking_order.index(x))\n",
    "perrault = perrault.sort_values(by='order')#.drop(columns='order')\n"
   ],
   "id": "2a69ac676c5ed1b3",
   "outputs": [
    {
     "data": {
      "text/plain": [
       "         variety  productive_minutes  order\n",
       "11        Simcoe         8733.401646      0\n",
       "0          Citra         3373.121200      1\n",
       "10         Sabro          909.895632      2\n",
       "8         Mosaic         5935.206132      3\n",
       "2       HBC 1019          174.718073      4\n",
       "9       Palisade          662.998767      5\n",
       "3        HBC 522          910.397805      6\n",
       "7        Idaho 7          830.955326      7\n",
       "12         Talus          965.229734      8\n",
       "6        HBC 682         3859.492678      9\n",
       "5        HBC 638          562.838140     10\n",
       "4        HBC 586         1575.140579     11\n",
       "1   Experimental          379.455433     12"
      ],
      "text/html": [
       "<div>\n",
       "<style scoped>\n",
       "    .dataframe tbody tr th:only-of-type {\n",
       "        vertical-align: middle;\n",
       "    }\n",
       "\n",
       "    .dataframe tbody tr th {\n",
       "        vertical-align: top;\n",
       "    }\n",
       "\n",
       "    .dataframe thead th {\n",
       "        text-align: right;\n",
       "    }\n",
       "</style>\n",
       "<table border=\"1\" class=\"dataframe\">\n",
       "  <thead>\n",
       "    <tr style=\"text-align: right;\">\n",
       "      <th></th>\n",
       "      <th>variety</th>\n",
       "      <th>productive_minutes</th>\n",
       "      <th>order</th>\n",
       "    </tr>\n",
       "  </thead>\n",
       "  <tbody>\n",
       "    <tr>\n",
       "      <th>11</th>\n",
       "      <td>Simcoe</td>\n",
       "      <td>8733.401646</td>\n",
       "      <td>0</td>\n",
       "    </tr>\n",
       "    <tr>\n",
       "      <th>0</th>\n",
       "      <td>Citra</td>\n",
       "      <td>3373.121200</td>\n",
       "      <td>1</td>\n",
       "    </tr>\n",
       "    <tr>\n",
       "      <th>10</th>\n",
       "      <td>Sabro</td>\n",
       "      <td>909.895632</td>\n",
       "      <td>2</td>\n",
       "    </tr>\n",
       "    <tr>\n",
       "      <th>8</th>\n",
       "      <td>Mosaic</td>\n",
       "      <td>5935.206132</td>\n",
       "      <td>3</td>\n",
       "    </tr>\n",
       "    <tr>\n",
       "      <th>2</th>\n",
       "      <td>HBC 1019</td>\n",
       "      <td>174.718073</td>\n",
       "      <td>4</td>\n",
       "    </tr>\n",
       "    <tr>\n",
       "      <th>9</th>\n",
       "      <td>Palisade</td>\n",
       "      <td>662.998767</td>\n",
       "      <td>5</td>\n",
       "    </tr>\n",
       "    <tr>\n",
       "      <th>3</th>\n",
       "      <td>HBC 522</td>\n",
       "      <td>910.397805</td>\n",
       "      <td>6</td>\n",
       "    </tr>\n",
       "    <tr>\n",
       "      <th>7</th>\n",
       "      <td>Idaho 7</td>\n",
       "      <td>830.955326</td>\n",
       "      <td>7</td>\n",
       "    </tr>\n",
       "    <tr>\n",
       "      <th>12</th>\n",
       "      <td>Talus</td>\n",
       "      <td>965.229734</td>\n",
       "      <td>8</td>\n",
       "    </tr>\n",
       "    <tr>\n",
       "      <th>6</th>\n",
       "      <td>HBC 682</td>\n",
       "      <td>3859.492678</td>\n",
       "      <td>9</td>\n",
       "    </tr>\n",
       "    <tr>\n",
       "      <th>5</th>\n",
       "      <td>HBC 638</td>\n",
       "      <td>562.838140</td>\n",
       "      <td>10</td>\n",
       "    </tr>\n",
       "    <tr>\n",
       "      <th>4</th>\n",
       "      <td>HBC 586</td>\n",
       "      <td>1575.140579</td>\n",
       "      <td>11</td>\n",
       "    </tr>\n",
       "    <tr>\n",
       "      <th>1</th>\n",
       "      <td>Experimental</td>\n",
       "      <td>379.455433</td>\n",
       "      <td>12</td>\n",
       "    </tr>\n",
       "  </tbody>\n",
       "</table>\n",
       "</div>"
      ]
     },
     "execution_count": 10,
     "metadata": {},
     "output_type": "execute_result"
    }
   ],
   "execution_count": 10
  },
  {
   "metadata": {
    "ExecuteTime": {
     "end_time": "2024-08-10T06:05:28.958Z",
     "start_time": "2024-08-10T06:05:28.951Z"
    }
   },
   "cell_type": "code",
   "source": [
    "variety_shift_lengths = {\n",
    "    'Simcoe': 600,  # 10 hours\n",
    "    'Citra': 600,  # 10 hours\n",
    "    'Sabro': 600,  # 10 hours\n",
    "    'Mosaic': 600,  # 10 hours\n",
    "    'HBC 1019': 450, # 7.5 hours\n",
    "    'Palisade' : 450, # 7.5 hours\n",
    "    'HBC 522' : 450, # 7.5 hours\n",
    "    'Idaho 7' : 450, # 7.5 hours\n",
    "    'Talus' : 450, # 7.5 hours\n",
    "    'HBC 682' : 450, # 7.5 hours\n",
    "    'HBC 638' : 450, # 7.5 hours\n",
    "    'HBC 586' : 450, # 7.5 hours\n",
    "    'Experimental' : 450 # 7.5 hours"
   ],
   "id": "bf12a6b843ecfb2c",
   "outputs": [
    {
     "ename": "SyntaxError",
     "evalue": "unexpected EOF while parsing (3773828833.py, line 14)",
     "output_type": "error",
     "traceback": [
      "\u001B[1;36m  Cell \u001B[1;32mIn[22], line 14\u001B[1;36m\u001B[0m\n\u001B[1;33m    'Experimental' : 450 # 7.5 hours\u001B[0m\n\u001B[1;37m                                    ^\u001B[0m\n\u001B[1;31mSyntaxError\u001B[0m\u001B[1;31m:\u001B[0m unexpected EOF while parsing\n"
     ]
    }
   ],
   "execution_count": 22
  },
  {
   "metadata": {
    "ExecuteTime": {
     "end_time": "2024-08-10T06:25:08.076141Z",
     "start_time": "2024-08-10T06:25:08.050245Z"
    }
   },
   "cell_type": "code",
   "source": [
    "import xlwings as xw\n",
    "import pandas as pd\n",
    "from datetime import datetime, timedelta\n",
    "\n",
    "data = perrault\n",
    "\n",
    "\n",
    "def is_working_day(date):\n",
    "    return date.weekday() < 5  # Monday to Friday are working days\n",
    "\n",
    "def next_working_day(current_datetime):\n",
    "    next_day = current_datetime + timedelta(days=1)\n",
    "    while not is_working_day(next_day):\n",
    "        next_day += timedelta(days=1)\n",
    "    return next_day\n",
    "\n",
    "def calculate_shift_time_with_breaks(total_minutes, work_period=240, break_duration=10, lunch_duration=30, shift_length=600):\n",
    "    num_breaks_per_shift = shift_length // work_period\n",
    "    total_break_time_per_shift = num_breaks_per_shift * break_duration\n",
    "    effective_shift_length = shift_length - total_break_time_per_shift\n",
    "    return effective_shift_length, total_break_time_per_shift\n",
    "\n",
    "def create_shift_schedule_with_breaks(data, start_datetime, variety_shift_lengths, break_duration=10, lunch_duration=30):\n",
    "    schedule = []\n",
    "    current_datetime = start_datetime\n",
    "\n",
    "    for index, row in data.iterrows():\n",
    "        variety = row['variety']\n",
    "        shift_length = variety_shift_lengths.get(variety, 630)  # Default to 10.5 hours if not specified\n",
    "        effective_shift_length, total_break_time_per_shift = calculate_shift_time_with_breaks(\n",
    "            shift_length, shift_length=shift_length)\n",
    "\n",
    "        if not is_working_day(current_datetime):\n",
    "            current_datetime = datetime.combine(next_working_day(current_datetime), datetime.min.time()) + timedelta(hours=8)\n",
    "\n",
    "        shift_end_time = current_datetime + timedelta(minutes=effective_shift_length + total_break_time_per_shift)\n",
    "\n",
    "        schedule.append({\n",
    "            'variety': variety,\n",
    "            'ShiftStart': current_datetime,\n",
    "            'ShiftEnd': shift_end_time,\n",
    "            'ShiftTime': effective_shift_length,\n",
    "            'BreakTime': total_break_time_per_shift,\n",
    "            'LunchBreak': lunch_duration if effective_shift_length >= 300 else 0,\n",
    "            'Date': current_datetime.strftime('%m-%d-%Y')\n",
    "        })\n",
    "\n",
    "        current_datetime = next_working_day(shift_end_time)\n",
    "        current_datetime = datetime.combine(current_datetime, datetime.min.time()) + timedelta(hours=8)\n",
    "\n",
    "    return pd.DataFrame(schedule)\n",
    "\n",
    "@xw.func\n",
    "def create_shift_schedule_excel(start_date, picking_order, varieties, shift_lengths):\n",
    "    data = pd.DataFrame({\n",
    "        'Picking Order': picking_order,\n",
    "        'variety': varieties,\n",
    "        'shift_length': shift_lengths\n",
    "    })\n",
    "\n",
    "    data = data.sort_values(by='Picking Order').reset_index(drop=True)\n",
    "    start_datetime = datetime.strptime(start_date, '%Y-%m-%d %H:%M')\n",
    "\n",
    "    # Generate the shift schedule\n",
    "    variety_shift_lengths = dict(zip(data['variety'], data['shift_length']))\n",
    "    schedule = create_shift_schedule_with_breaks(data, start_datetime, variety_shift_lengths)\n",
    "\n",
    "    return schedule.values.tolist()\n",
    "\n",
    "# Example usage (this is not part of the function, just to show how it would be used)\n",
    "if __name__ == \"__main__\":\n",
    "    # Assuming `data` is loaded or defined elsewhere\n",
    "    start_datetime = datetime(2024, 9, 1, 6, 0)\n",
    "\n",
    "    variety_shift_lengths = {\n",
    "        'Simcoe': 600,  # 10 hours\n",
    "        'Citra': 600,  # 10 hours\n",
    "        'Sabro': 600,  # 10 hours\n",
    "        'Mosaic': 600,  # 10 hours\n",
    "        'HBC 1019': 450, # 7.5 hours\n",
    "        'Palisade' : 450, # 7.5 hours\n",
    "        'HBC 522' : 450, # 7.5 hours\n",
    "        'Idaho 7' : 450, # 7.5 hours\n",
    "        'Talus' : 450, # 7.5 hours\n",
    "        'HBC 682' : 450, # 7.5 hours\n",
    "        'HBC 638' : 450, # 7.5 hours\n",
    "        'HBC 586' : 450, # 7.5 hours\n",
    "        'Experimental' : 450 # 7.5 hours\n",
    "    }\n",
    "\n",
    "    # You would normally call this from Excel using xlwings, but here's an example:\n",
    "    shift_schedule = create_shift_schedule_with_breaks(data, start_datetime, variety_shift_lengths)\n",
    "    print(shift_schedule)\n",
    "\n",
    "\n",
    "\n",
    "\n",
    "\n",
    "\n",
    "\n",
    "\n",
    "\n"
   ],
   "id": "7f546eaceb5331fe",
   "outputs": [
    {
     "name": "stdout",
     "output_type": "stream",
     "text": [
      "         variety          ShiftStart            ShiftEnd  ShiftTime  \\\n",
      "0         Simcoe 2024-09-02 08:00:00 2024-09-02 18:00:00        580   \n",
      "1          Citra 2024-09-03 08:00:00 2024-09-03 18:00:00        580   \n",
      "2          Sabro 2024-09-04 08:00:00 2024-09-04 18:00:00        580   \n",
      "3         Mosaic 2024-09-05 08:00:00 2024-09-05 18:00:00        580   \n",
      "4       HBC 1019 2024-09-06 08:00:00 2024-09-06 15:30:00        440   \n",
      "5       Palisade 2024-09-09 08:00:00 2024-09-09 15:30:00        440   \n",
      "6        HBC 522 2024-09-10 08:00:00 2024-09-10 15:30:00        440   \n",
      "7        Idaho 7 2024-09-11 08:00:00 2024-09-11 15:30:00        440   \n",
      "8          Talus 2024-09-12 08:00:00 2024-09-12 15:30:00        440   \n",
      "9        HBC 682 2024-09-13 08:00:00 2024-09-13 15:30:00        440   \n",
      "10       HBC 638 2024-09-16 08:00:00 2024-09-16 15:30:00        440   \n",
      "11       HBC 586 2024-09-17 08:00:00 2024-09-17 15:30:00        440   \n",
      "12  Experimental 2024-09-18 08:00:00 2024-09-18 15:30:00        440   \n",
      "\n",
      "    BreakTime  LunchBreak        Date  \n",
      "0          20          30  09-02-2024  \n",
      "1          20          30  09-03-2024  \n",
      "2          20          30  09-04-2024  \n",
      "3          20          30  09-05-2024  \n",
      "4          10          30  09-06-2024  \n",
      "5          10          30  09-09-2024  \n",
      "6          10          30  09-10-2024  \n",
      "7          10          30  09-11-2024  \n",
      "8          10          30  09-12-2024  \n",
      "9          10          30  09-13-2024  \n",
      "10         10          30  09-16-2024  \n",
      "11         10          30  09-17-2024  \n",
      "12         10          30  09-18-2024  \n"
     ]
    }
   ],
   "execution_count": 12
  },
  {
   "metadata": {
    "ExecuteTime": {
     "end_time": "2024-08-10T06:24:54.576978Z",
     "start_time": "2024-08-10T06:24:54.534401Z"
    }
   },
   "cell_type": "code",
   "source": "weekly_hours",
   "id": "64a49885ff128ca4",
   "outputs": [
    {
     "ename": "NameError",
     "evalue": "name 'weekly_hours' is not defined",
     "output_type": "error",
     "traceback": [
      "\u001B[1;31m---------------------------------------------------------------------------\u001B[0m",
      "\u001B[1;31mNameError\u001B[0m                                 Traceback (most recent call last)",
      "Cell \u001B[1;32mIn[13], line 1\u001B[0m\n\u001B[1;32m----> 1\u001B[0m \u001B[43mweekly_hours\u001B[49m\n",
      "\u001B[1;31mNameError\u001B[0m: name 'weekly_hours' is not defined"
     ]
    }
   ],
   "execution_count": 13
  },
  {
   "metadata": {},
   "cell_type": "code",
   "outputs": [],
   "execution_count": null,
   "source": "",
   "id": "5cf49e2b6fde31f5"
  }
 ],
 "metadata": {
  "kernelspec": {
   "display_name": "Python 3",
   "language": "python",
   "name": "python3"
  },
  "language_info": {
   "codemirror_mode": {
    "name": "ipython",
    "version": 2
   },
   "file_extension": ".py",
   "mimetype": "text/x-python",
   "name": "python",
   "nbconvert_exporter": "python",
   "pygments_lexer": "ipython2",
   "version": "2.7.6"
  }
 },
 "nbformat": 4,
 "nbformat_minor": 5
}
